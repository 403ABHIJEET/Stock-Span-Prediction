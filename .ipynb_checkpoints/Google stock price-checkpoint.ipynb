{
 "cells": [
  {
   "cell_type": "code",
   "execution_count": 1,
   "metadata": {},
   "outputs": [],
   "source": [
    "import numpy as np \n",
    "import pandas as pd \n",
    "import matplotlib.pyplot as plt \n",
    "from sklearn.preprocessing import MinMaxScaler\n",
    "from keras.models import Sequential\n",
    "from keras.layers import Dense,LSTM,Dropout"
   ]
  },
  {
   "cell_type": "code",
   "execution_count": 2,
   "metadata": {},
   "outputs": [
    {
     "data": {
      "text/html": [
       "<div>\n",
       "<style scoped>\n",
       "    .dataframe tbody tr th:only-of-type {\n",
       "        vertical-align: middle;\n",
       "    }\n",
       "\n",
       "    .dataframe tbody tr th {\n",
       "        vertical-align: top;\n",
       "    }\n",
       "\n",
       "    .dataframe thead th {\n",
       "        text-align: right;\n",
       "    }\n",
       "</style>\n",
       "<table border=\"1\" class=\"dataframe\">\n",
       "  <thead>\n",
       "    <tr style=\"text-align: right;\">\n",
       "      <th></th>\n",
       "      <th>Date</th>\n",
       "      <th>Open</th>\n",
       "      <th>High</th>\n",
       "      <th>Low</th>\n",
       "      <th>Close</th>\n",
       "      <th>Volume</th>\n",
       "    </tr>\n",
       "  </thead>\n",
       "  <tbody>\n",
       "    <tr>\n",
       "      <th>0</th>\n",
       "      <td>1/3/2012</td>\n",
       "      <td>325.25</td>\n",
       "      <td>332.83</td>\n",
       "      <td>324.97</td>\n",
       "      <td>663.59</td>\n",
       "      <td>7,380,500</td>\n",
       "    </tr>\n",
       "    <tr>\n",
       "      <th>1</th>\n",
       "      <td>1/4/2012</td>\n",
       "      <td>331.27</td>\n",
       "      <td>333.87</td>\n",
       "      <td>329.08</td>\n",
       "      <td>666.45</td>\n",
       "      <td>5,749,400</td>\n",
       "    </tr>\n",
       "    <tr>\n",
       "      <th>2</th>\n",
       "      <td>1/5/2012</td>\n",
       "      <td>329.83</td>\n",
       "      <td>330.75</td>\n",
       "      <td>326.89</td>\n",
       "      <td>657.21</td>\n",
       "      <td>6,590,300</td>\n",
       "    </tr>\n",
       "    <tr>\n",
       "      <th>3</th>\n",
       "      <td>1/6/2012</td>\n",
       "      <td>328.34</td>\n",
       "      <td>328.77</td>\n",
       "      <td>323.68</td>\n",
       "      <td>648.24</td>\n",
       "      <td>5,405,900</td>\n",
       "    </tr>\n",
       "    <tr>\n",
       "      <th>4</th>\n",
       "      <td>1/9/2012</td>\n",
       "      <td>322.04</td>\n",
       "      <td>322.29</td>\n",
       "      <td>309.46</td>\n",
       "      <td>620.76</td>\n",
       "      <td>11,688,800</td>\n",
       "    </tr>\n",
       "  </tbody>\n",
       "</table>\n",
       "</div>"
      ],
      "text/plain": [
       "       Date    Open    High     Low   Close      Volume\n",
       "0  1/3/2012  325.25  332.83  324.97  663.59   7,380,500\n",
       "1  1/4/2012  331.27  333.87  329.08  666.45   5,749,400\n",
       "2  1/5/2012  329.83  330.75  326.89  657.21   6,590,300\n",
       "3  1/6/2012  328.34  328.77  323.68  648.24   5,405,900\n",
       "4  1/9/2012  322.04  322.29  309.46  620.76  11,688,800"
      ]
     },
     "execution_count": 2,
     "metadata": {},
     "output_type": "execute_result"
    }
   ],
   "source": [
    "data = pd.read_csv('Google_train_data.csv')\n",
    "data.head()"
   ]
  },
  {
   "cell_type": "code",
   "execution_count": 3,
   "metadata": {},
   "outputs": [
    {
     "name": "stdout",
     "output_type": "stream",
     "text": [
      "<class 'pandas.core.frame.DataFrame'>\n",
      "RangeIndex: 1258 entries, 0 to 1257\n",
      "Data columns (total 6 columns):\n",
      " #   Column  Non-Null Count  Dtype  \n",
      "---  ------  --------------  -----  \n",
      " 0   Date    1258 non-null   object \n",
      " 1   Open    1258 non-null   float64\n",
      " 2   High    1258 non-null   float64\n",
      " 3   Low     1258 non-null   float64\n",
      " 4   Close   1258 non-null   object \n",
      " 5   Volume  1258 non-null   object \n",
      "dtypes: float64(3), object(3)\n",
      "memory usage: 59.1+ KB\n"
     ]
    }
   ],
   "source": [
    "data.info()"
   ]
  },
  {
   "cell_type": "code",
   "execution_count": 4,
   "metadata": {},
   "outputs": [],
   "source": [
    "data[\"Close\"]=pd.to_numeric(data.Close,errors='coerce')\n",
    "data = data.dropna()\n",
    "trainData = data.iloc[:,4:5].values"
   ]
  },
  {
   "cell_type": "code",
   "execution_count": 5,
   "metadata": {},
   "outputs": [
    {
     "name": "stdout",
     "output_type": "stream",
     "text": [
      "<class 'pandas.core.frame.DataFrame'>\n",
      "Index: 1149 entries, 0 to 1257\n",
      "Data columns (total 6 columns):\n",
      " #   Column  Non-Null Count  Dtype  \n",
      "---  ------  --------------  -----  \n",
      " 0   Date    1149 non-null   object \n",
      " 1   Open    1149 non-null   float64\n",
      " 2   High    1149 non-null   float64\n",
      " 3   Low     1149 non-null   float64\n",
      " 4   Close   1149 non-null   float64\n",
      " 5   Volume  1149 non-null   object \n",
      "dtypes: float64(4), object(2)\n",
      "memory usage: 62.8+ KB\n"
     ]
    }
   ],
   "source": [
    "data.info()"
   ]
  },
  {
   "cell_type": "code",
   "execution_count": 6,
   "metadata": {},
   "outputs": [
    {
     "data": {
      "text/plain": [
       "(1149, 1)"
      ]
     },
     "execution_count": 6,
     "metadata": {},
     "output_type": "execute_result"
    }
   ],
   "source": [
    "sc = MinMaxScaler(feature_range=(0,1))\n",
    "trainData = sc.fit_transform(trainData)\n",
    "trainData.shape"
   ]
  },
  {
   "cell_type": "code",
   "execution_count": 7,
   "metadata": {},
   "outputs": [],
   "source": [
    "X_train = []\n",
    "y_train = []\n",
    "\n",
    "for i in range (60,1149): #60 : timestep // 1149 : length of the data\n",
    "    X_train.append(trainData[i-60:i,0]) \n",
    "    y_train.append(trainData[i,0])\n",
    "\n",
    "X_train,y_train = np.array(X_train),np.array(y_train)"
   ]
  },
  {
   "cell_type": "code",
   "execution_count": 8,
   "metadata": {},
   "outputs": [
    {
     "data": {
      "text/plain": [
       "(1089, 60, 1)"
      ]
     },
     "execution_count": 8,
     "metadata": {},
     "output_type": "execute_result"
    }
   ],
   "source": [
    "X_train = np.reshape(X_train,(X_train.shape[0],X_train.shape[1],1)) #adding the batch_size axis\n",
    "X_train.shape"
   ]
  },
  {
   "cell_type": "code",
   "execution_count": 9,
   "metadata": {},
   "outputs": [
    {
     "name": "stderr",
     "output_type": "stream",
     "text": [
      "C:\\Users\\mymik\\anaconda3\\Lib\\site-packages\\keras\\src\\layers\\rnn\\rnn.py:204: UserWarning: Do not pass an `input_shape`/`input_dim` argument to a layer. When using Sequential models, prefer using an `Input(shape)` object as the first layer in the model instead.\n",
      "  super().__init__(**kwargs)\n"
     ]
    }
   ],
   "source": [
    "model = Sequential()\n",
    "\n",
    "model.add(LSTM(units=100, return_sequences = True, input_shape =(X_train.shape[1],1)))\n",
    "model.add(Dropout(0.2))\n",
    "\n",
    "model.add(LSTM(units=100, return_sequences = True))\n",
    "model.add(Dropout(0.2))\n",
    "\n",
    "model.add(LSTM(units=100, return_sequences = True))\n",
    "model.add(Dropout(0.2))\n",
    "\n",
    "model.add(LSTM(units=100, return_sequences = False))\n",
    "model.add(Dropout(0.2))\n",
    "\n",
    "model.add(Dense(units =1))\n",
    "model.compile(optimizer='adam',loss=\"mean_squared_error\")"
   ]
  },
  {
   "cell_type": "code",
   "execution_count": 10,
   "metadata": {},
   "outputs": [
    {
     "name": "stdout",
     "output_type": "stream",
     "text": [
      "Epoch 1/20\n",
      "35/35 - 6s - 165ms/step - loss: 0.0296\n",
      "Epoch 2/20\n",
      "35/35 - 2s - 65ms/step - loss: 0.0111\n",
      "Epoch 3/20\n",
      "35/35 - 2s - 65ms/step - loss: 0.0102\n",
      "Epoch 4/20\n",
      "35/35 - 2s - 65ms/step - loss: 0.0122\n",
      "Epoch 5/20\n",
      "35/35 - 2s - 66ms/step - loss: 0.0084\n",
      "Epoch 6/20\n",
      "35/35 - 2s - 65ms/step - loss: 0.0075\n",
      "Epoch 7/20\n",
      "35/35 - 2s - 65ms/step - loss: 0.0070\n",
      "Epoch 8/20\n",
      "35/35 - 2s - 65ms/step - loss: 0.0088\n",
      "Epoch 9/20\n",
      "35/35 - 2s - 65ms/step - loss: 0.0067\n",
      "Epoch 10/20\n",
      "35/35 - 2s - 65ms/step - loss: 0.0068\n",
      "Epoch 11/20\n",
      "35/35 - 2s - 65ms/step - loss: 0.0066\n",
      "Epoch 12/20\n",
      "35/35 - 2s - 65ms/step - loss: 0.0064\n",
      "Epoch 13/20\n",
      "35/35 - 2s - 65ms/step - loss: 0.0063\n",
      "Epoch 14/20\n",
      "35/35 - 2s - 65ms/step - loss: 0.0106\n",
      "Epoch 15/20\n",
      "35/35 - 2s - 66ms/step - loss: 0.0057\n",
      "Epoch 16/20\n",
      "35/35 - 2s - 65ms/step - loss: 0.0233\n",
      "Epoch 17/20\n",
      "35/35 - 2s - 65ms/step - loss: 0.0074\n",
      "Epoch 18/20\n",
      "35/35 - 2s - 64ms/step - loss: 0.0057\n",
      "Epoch 19/20\n",
      "35/35 - 2s - 65ms/step - loss: 0.0052\n",
      "Epoch 20/20\n",
      "35/35 - 2s - 65ms/step - loss: 0.0049\n"
     ]
    }
   ],
   "source": [
    "hist = model.fit(X_train, y_train, epochs = 20, batch_size = 32, verbose=2)"
   ]
  },
  {
   "cell_type": "code",
   "execution_count": 11,
   "metadata": {},
   "outputs": [
    {
     "data": {
      "image/png": "[encoded data removed]",
      "text/plain": [
       "<Figure size 640x480 with 1 Axes>"
      ]
     },
     "metadata": {},
     "output_type": "display_data"
    }
   ],
   "source": [
    "plt.plot(hist.history['loss'])\n",
    "plt.title('Training model loss')\n",
    "plt.ylabel('loss')\n",
    "plt.xlabel('epoch')\n",
    "plt.legend(['train'], loc='upper left')\n",
    "plt.show()"
   ]
  },
  {
   "cell_type": "code",
   "execution_count": 12,
   "metadata": {},
   "outputs": [
    {
     "data": {
      "text/plain": [
       "(192, 60, 1)"
      ]
     },
     "execution_count": 12,
     "metadata": {},
     "output_type": "execute_result"
    }
   ],
   "source": [
    "testData = pd.read_csv('Google_test_data.csv')\n",
    "testData[\"Close\"]=pd.to_numeric(testData.Close,errors='coerce')\n",
    "testData = testData.dropna()\n",
    "testData = testData.iloc[:,4:5]\n",
    "y_test = testData.iloc[60:,0:].values \n",
    "#input array for the model\n",
    "inputClosing = testData.iloc[:,0:].values \n",
    "inputClosing_scaled = sc.transform(inputClosing)\n",
    "inputClosing_scaled.shape\n",
    "X_test = []\n",
    "length = len(testData)\n",
    "timestep = 60\n",
    "for i in range(timestep,length):  \n",
    "    X_test.append(inputClosing_scaled[i-timestep:i,0])\n",
    "X_test = np.array(X_test)\n",
    "X_test = np.reshape(X_test,(X_test.shape[0],X_test.shape[1],1))\n",
    "X_test.shape"
   ]
  },
  {
   "cell_type": "code",
   "execution_count": 13,
   "metadata": {},
   "outputs": [
    {
     "name": "stdout",
     "output_type": "stream",
     "text": [
      "\u001b[1m6/6\u001b[0m \u001b[32m━━━━━━━━━━━━━━━━━━━━\u001b[0m\u001b[37m\u001b[0m \u001b[1m0s\u001b[0m 27ms/step\n"
     ]
    },
    {
     "data": {
      "text/plain": [
       "array([[1.1765177],\n",
       "       [1.1770957],\n",
       "       [1.184098 ],\n",
       "       [1.1961389],\n",
       "       [1.207663 ],\n",
       "       [1.2113006],\n",
       "       [1.2057018],\n",
       "       [1.1947417],\n",
       "       [1.1856825],\n",
       "       [1.1811783],\n",
       "       [1.174875 ],\n",
       "       [1.165786 ],\n",
       "       [1.1568906],\n",
       "       [1.1481526],\n",
       "       [1.1438947],\n",
       "       [1.1444714],\n",
       "       [1.1549525],\n",
       "       [1.1743507],\n",
       "       [1.1990533],\n",
       "       [1.2258697],\n",
       "       [1.2421181],\n",
       "       [1.2471945],\n",
       "       [1.2389555],\n",
       "       [1.221499 ],\n",
       "       [1.2022412],\n",
       "       [1.1878977],\n",
       "       [1.1805236],\n",
       "       [1.1763663],\n",
       "       [1.1692533],\n",
       "       [1.1598916],\n",
       "       [1.1493127],\n",
       "       [1.1371593],\n",
       "       [1.1201539],\n",
       "       [1.0989852],\n",
       "       [1.0860674],\n",
       "       [1.0864799],\n",
       "       [1.097636 ],\n",
       "       [1.114151 ],\n",
       "       [1.1325336],\n",
       "       [1.1450989],\n",
       "       [1.1576507],\n",
       "       [1.1717191],\n",
       "       [1.1875577],\n",
       "       [1.2031164],\n",
       "       [1.2156012],\n",
       "       [1.2216711],\n",
       "       [1.2193751],\n",
       "       [1.2154722],\n",
       "       [1.2141166],\n",
       "       [1.217623 ],\n",
       "       [1.2263799],\n",
       "       [1.2339048],\n",
       "       [1.2379799],\n",
       "       [1.238208 ],\n",
       "       [1.2382495],\n",
       "       [1.2364187],\n",
       "       [1.2311273],\n",
       "       [1.2274683],\n",
       "       [1.2316301],\n",
       "       [1.2426772],\n",
       "       [1.2605991],\n",
       "       [1.2839193],\n",
       "       [1.3036177],\n",
       "       [1.3128939],\n",
       "       [1.3109379],\n",
       "       [1.3010063],\n",
       "       [1.2916117],\n",
       "       [1.2864025],\n",
       "       [1.286063 ],\n",
       "       [1.2880323],\n",
       "       [1.2911618],\n",
       "       [1.29369  ],\n",
       "       [1.2922993],\n",
       "       [1.2890882],\n",
       "       [1.2855928],\n",
       "       [1.2836916],\n",
       "       [1.2839208],\n",
       "       [1.2864144],\n",
       "       [1.2936504],\n",
       "       [1.3057015],\n",
       "       [1.3223698],\n",
       "       [1.3400633],\n",
       "       [1.3531914],\n",
       "       [1.3596945],\n",
       "       [1.3655758],\n",
       "       [1.3755553],\n",
       "       [1.3891776],\n",
       "       [1.402482 ],\n",
       "       [1.4125748],\n",
       "       [1.4183843],\n",
       "       [1.4226248],\n",
       "       [1.4303496],\n",
       "       [1.4427197],\n",
       "       [1.453213 ],\n",
       "       [1.4569595],\n",
       "       [1.4525824],\n",
       "       [1.440639 ],\n",
       "       [1.4239602],\n",
       "       [1.407187 ],\n",
       "       [1.3968439],\n",
       "       [1.3952546],\n",
       "       [1.4016223],\n",
       "       [1.4140923],\n",
       "       [1.4277358],\n",
       "       [1.4386744],\n",
       "       [1.4443567],\n",
       "       [1.4458301],\n",
       "       [1.4450343],\n",
       "       [1.4455197],\n",
       "       [1.4485466],\n",
       "       [1.4543788],\n",
       "       [1.4630942],\n",
       "       [1.4729507],\n",
       "       [1.4840212],\n",
       "       [1.4973848],\n",
       "       [1.509968 ],\n",
       "       [1.5208833],\n",
       "       [1.5306158],\n",
       "       [1.5411639],\n",
       "       [1.5357614],\n",
       "       [1.5111308],\n",
       "       [1.473381 ],\n",
       "       [1.4356067],\n",
       "       [1.406394 ],\n",
       "       [1.386461 ],\n",
       "       [1.3738265],\n",
       "       [1.3661661],\n",
       "       [1.3623211],\n",
       "       [1.3561542],\n",
       "       [1.3449607],\n",
       "       [1.3373318],\n",
       "       [1.3387182],\n",
       "       [1.3458364],\n",
       "       [1.3512795],\n",
       "       [1.3540082],\n",
       "       [1.3546569],\n",
       "       [1.3524661],\n",
       "       [1.3470478],\n",
       "       [1.3397832],\n",
       "       [1.329567 ],\n",
       "       [1.3179433],\n",
       "       [1.3046486],\n",
       "       [1.280612 ],\n",
       "       [1.2500036],\n",
       "       [1.2172325],\n",
       "       [1.1876721],\n",
       "       [1.1682374],\n",
       "       [1.1627696],\n",
       "       [1.1692343],\n",
       "       [1.1826797],\n",
       "       [1.1999378],\n",
       "       [1.2169745],\n",
       "       [1.232141 ],\n",
       "       [1.2459781],\n",
       "       [1.2578545],\n",
       "       [1.2684968],\n",
       "       [1.2792642],\n",
       "       [1.2886953],\n",
       "       [1.2911186],\n",
       "       [1.2850463],\n",
       "       [1.2722919],\n",
       "       [1.2573028],\n",
       "       [1.2462854],\n",
       "       [1.2434783],\n",
       "       [1.2499888],\n",
       "       [1.2645254],\n",
       "       [1.2805982],\n",
       "       [1.2951636],\n",
       "       [1.3088429],\n",
       "       [1.3216853],\n",
       "       [1.332947 ],\n",
       "       [1.3426156],\n",
       "       [1.3507543],\n",
       "       [1.3558991],\n",
       "       [1.3578427],\n",
       "       [1.3546371],\n",
       "       [1.3485548],\n",
       "       [1.34307  ],\n",
       "       [1.3384147],\n",
       "       [1.3338401],\n",
       "       [1.3481469],\n",
       "       [1.3800263],\n",
       "       [1.4181185],\n",
       "       [1.4510379],\n",
       "       [1.4720333],\n",
       "       [1.4782608],\n",
       "       [1.4661226],\n",
       "       [1.4438622],\n",
       "       [1.4198644],\n",
       "       [1.4045589],\n",
       "       [1.3976533],\n",
       "       [1.3948781]], dtype=float32)"
      ]
     },
     "execution_count": 13,
     "metadata": {},
     "output_type": "execute_result"
    }
   ],
   "source": [
    "y_pred = model.predict(X_test)\n",
    "y_pred"
   ]
  },
  {
   "cell_type": "code",
   "execution_count": 14,
   "metadata": {},
   "outputs": [],
   "source": [
    "predicted_price = sc.inverse_transform(y_pred)"
   ]
  },
  {
   "cell_type": "code",
   "execution_count": 15,
   "metadata": {},
   "outputs": [
    {
     "data": {
      "image/png": "[encoded data removed]",
      "text/plain": [
       "<Figure size 640x480 with 1 Axes>"
      ]
     },
     "metadata": {},
     "output_type": "display_data"
    }
   ],
   "source": [
    "plt.plot(y_test, color = 'red', label = 'Actual Stock Price')\n",
    "plt.plot(predicted_price, color = 'green', label = 'Predicted Stock Price')\n",
    "plt.title('Google stock price prediction')\n",
    "plt.xlabel('Time')\n",
    "plt.ylabel('Stock Price')\n",
    "plt.legend()\n",
    "plt.show()"
   ]
  },
  {
   "cell_type": "code",
   "execution_count": null,
   "metadata": {},
   "outputs": [],
   "source": []
  }
 ],
 "metadata": {
  "kernelspec": {
   "display_name": "Python 3 (ipykernel)",
   "language": "python",
   "name": "python3"
  },
  "language_info": {
   "codemirror_mode": {
    "name": "ipython",
    "version": 3
   },
   "file_extension": ".py",
   "mimetype": "text/x-python",
   "name": "python",
   "nbconvert_exporter": "python",
   "pygments_lexer": "ipython3",
   "version": "3.11.5"
  }
 },
 "nbformat": 4,
 "nbformat_minor": 4
}
